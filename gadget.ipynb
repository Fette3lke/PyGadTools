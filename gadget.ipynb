{
 "metadata": {
  "name": ""
 },
 "nbformat": 3,
 "nbformat_minor": 0,
 "worksheets": [
  {
   "cells": [
    {
     "cell_type": "markdown",
     "metadata": {},
     "source": [
      "**import astro.py** (get it here: https://github.com/Fette3lke/PyGadTools/raw/master/astro.py)"
     ]
    },
    {
     "cell_type": "code",
     "collapsed": false,
     "input": [
      "%pylab inline --no-import-all\n",
      "from astro import *"
     ],
     "language": "python",
     "metadata": {},
     "outputs": [
      {
       "output_type": "stream",
       "stream": "stdout",
       "text": [
        "Populating the interactive namespace from numpy and matplotlib\n"
       ]
      }
     ],
     "prompt_number": 1
    },
    {
     "cell_type": "markdown",
     "metadata": {},
     "source": [
      "**Download a Gadget-Snapshot and read it in. This one is a cut from a cosmological zoom simulation including a single halo at redshift 0.**"
     ]
    },
    {
     "cell_type": "code",
     "collapsed": false,
     "input": [
      "import urllib\n",
      "urllib.urlretrieve (\"https://github.com/Fette3lke/GadTools/raw/master/sample/M0977_094.gad\", \"./M0977_094.gad\")\n",
      "sn = snapshot('./M0977_094.gad')"
     ],
     "language": "python",
     "metadata": {},
     "outputs": [],
     "prompt_number": 2
    },
    {
     "cell_type": "markdown",
     "metadata": {},
     "source": [
      "**The actual data is stored in numpy arrays which are properties of the snapshot object that we just created, e.g. the particle positions:**"
     ]
    },
    {
     "cell_type": "code",
     "collapsed": false,
     "input": [
      "sn.pos"
     ],
     "language": "python",
     "metadata": {},
     "outputs": [
      {
       "metadata": {},
       "output_type": "pyout",
       "prompt_number": 3,
       "text": [
        "array([[ 3.2760365 , -3.40862894, -9.14464188],\n",
        "       [ 3.2055068 , -3.39777827, -8.96018028],\n",
        "       [ 3.09157467, -3.29469657, -9.04698563],\n",
        "       ..., \n",
        "       [ 0.31922215,  0.88282043,  0.20865591],\n",
        "       [-0.81467545,  0.73633605,  0.76204127],\n",
        "       [-0.79839939,  1.29514682,  0.51247531]], dtype=float32)"
       ]
      }
     ],
     "prompt_number": 3
    },
    {
     "cell_type": "code",
     "collapsed": false,
     "input": [
      "sn.pos[0,2]  # 0-th particle z-position "
     ],
     "language": "python",
     "metadata": {},
     "outputs": [
      {
       "metadata": {},
       "output_type": "pyout",
       "prompt_number": 4,
       "text": [
        "-9.1446419"
       ]
      }
     ],
     "prompt_number": 4
    },
    {
     "cell_type": "markdown",
     "metadata": {},
     "source": [
      "**The snapshot object comes with a couple of predefined functions operating on its data. e.g. if you need to calculate the distances of all particles to a specific point in space:**"
     ]
    },
    {
     "cell_type": "code",
     "collapsed": false,
     "input": [
      "sn.calcDistances()  # this snapshot is centered on the origin, \n",
      "                    # if you need the distances to another point, set sn.center before calling calcDistances()\n",
      "sn.dist[sn.sind]    # sn.dist stores the distances and sn.sind the sorted indices\n"
     ],
     "language": "python",
     "metadata": {},
     "outputs": [
      {
       "metadata": {},
       "output_type": "pyout",
       "prompt_number": 5,
       "text": [
        "array([  1.90660931e-02,   2.93155206e-02,   5.30883381e-02, ...,\n",
        "         1.77278808e+02,   1.77281020e+02,   1.77336044e+02])"
       ]
      }
     ],
     "prompt_number": 5
    },
    {
     "cell_type": "markdown",
     "metadata": {},
     "source": [
      "**The snapshot object supports slicing, i.e. we can use a list of indices to create a new snapshot object including only a subset of the particles.**"
     ]
    },
    {
     "cell_type": "code",
     "collapsed": false,
     "input": [
      "i = sn.dist < 1.\n",
      "center_sn = sn.slice(i)\n",
      "print sn.npart, center_sn.npart"
     ],
     "language": "python",
     "metadata": {},
     "outputs": [
      {
       "output_type": "stream",
       "stream": "stdout",
       "text": [
        "[ 9612 20768     0     0  2695     0] [ 67  14   0   0 284   0]\n"
       ]
      }
     ],
     "prompt_number": 6
    },
    {
     "cell_type": "markdown",
     "metadata": {},
     "source": [
      "**Also, every snapshot object creates some predefined slices for all the particle types when it is created**"
     ]
    },
    {
     "cell_type": "code",
     "collapsed": false,
     "input": [
      "plt.plot(center_sn.stars.pos[:, 0], center_sn.stars.pos[:, 1], ',') # center_sn.stars includes all stars inside 1 kpc"
     ],
     "language": "python",
     "metadata": {},
     "outputs": [
      {
       "metadata": {},
       "output_type": "pyout",
       "prompt_number": 7,
       "text": [
        "[<matplotlib.lines.Line2D at 0x560f990>]"
       ]
      },
      {
       "metadata": {},
       "output_type": "display_data",
       "png": "[encoded data removed]",
       "text": [
        "<matplotlib.figure.Figure at 0x4bf8050>"
       ]
      }
     ],
     "prompt_number": 7
    },
    {
     "cell_type": "code",
     "collapsed": false,
     "input": [],
     "language": "python",
     "metadata": {},
     "outputs": [],
     "prompt_number": 7
    }
   ],
   "metadata": {}
  }
 ]
}